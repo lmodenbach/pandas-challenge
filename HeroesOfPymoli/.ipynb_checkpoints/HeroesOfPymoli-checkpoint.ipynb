{
 "cells": [
  {
   "cell_type": "code",
   "execution_count": 1,
   "metadata": {},
   "outputs": [],
   "source": [
    "import pandas as pd"
   ]
  },
  {
   "cell_type": "code",
   "execution_count": 2,
   "metadata": {},
   "outputs": [],
   "source": [
    "#file variable gets path to source csv\n",
    "file = \"../Resources/purchase_data.csv\"\n",
    "\n",
    "# read source data in\n",
    "Pymoli_data = pd.read_csv(file)\n",
    "\n",
    "#create dataframe\n",
    "Pymoli_df = pd.DataFrame(Pymoli_data)"
   ]
  },
  {
   "cell_type": "code",
   "execution_count": 3,
   "metadata": {},
   "outputs": [
    {
     "data": {
      "text/plain": [
       "780"
      ]
     },
     "execution_count": 3,
     "metadata": {},
     "output_type": "execute_result"
    }
   ],
   "source": [
    "#total number of players\n",
    "total_players = len(Pymoli_df[\"Purchase ID\"].value_counts())\n",
    "total_players"
   ]
  },
  {
   "cell_type": "code",
   "execution_count": 6,
   "metadata": {},
   "outputs": [
    {
     "data": {
      "text/plain": [
       "179"
      ]
     },
     "execution_count": 6,
     "metadata": {},
     "output_type": "execute_result"
    }
   ],
   "source": [
    "#PURCHASING ANALYSIS\n",
    "\n",
    "#TUTOR: how do I use unique here?\n",
    "num_unique_nunique = Pymoli_df.groupby(\"Item ID\").nunique().count()\n",
    "num_unique_nunique\n",
    "\n",
    "#number of unique items\n",
    "num_unique_items = len(Pymoli_df[\"Item ID\"].value_counts())\n",
    "num_unique_items\n"
   ]
  },
  {
   "cell_type": "code",
   "execution_count": null,
   "metadata": {},
   "outputs": [],
   "source": [
    "#PURCHASING ANALYSIS\n",
    "\n",
    "#total num purchases\n",
    "total_num_purchases = int(Pymoli_df[\"Price\"].count())\n",
    "total_num_purchases"
   ]
  },
  {
   "cell_type": "code",
   "execution_count": null,
   "metadata": {},
   "outputs": [],
   "source": [
    "#PURCHASING ANALYSIS\n",
    "\n",
    "#total revenue\n"
   ]
  },
  {
   "cell_type": "code",
   "execution_count": null,
   "metadata": {},
   "outputs": [],
   "source": [
    "#PURCHASING ANALYSIS\n",
    "\n",
    "#average purchase price\n"
   ]
  }
 ],
 "metadata": {
  "kernelspec": {
   "display_name": "Python 3",
   "language": "python",
   "name": "python3"
  },
  "language_info": {
   "codemirror_mode": {
    "name": "ipython",
    "version": 3
   },
   "file_extension": ".py",
   "mimetype": "text/x-python",
   "name": "python",
   "nbconvert_exporter": "python",
   "pygments_lexer": "ipython3",
   "version": "3.8.5"
  }
 },
 "nbformat": 4,
 "nbformat_minor": 4
}
